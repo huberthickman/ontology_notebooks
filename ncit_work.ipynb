{
 "cells": [
  {
   "cell_type": "markdown",
   "metadata": {},
   "source": [
    "# Generate the transitive closure table for the NCI Thesaurus\n",
    "\n",
    "This notebook shows how to generate the transitive closure table for the NCI (National Cancer Institute) Thesaurus. \n",
    "It uses a combination of sqlite and pandas to minimize the amount of code needed to create the transitive closure table.  \n",
    "\n",
    "Download the latest flat format thesaurus file from here: https://cbiit.cancer.gov/evs-download/thesaurus-downloads\n",
    "Unzip the file into a directory, and set the full path to the name of the Thesaurus.txt fle.\n",
    "\n",
    "The NCI Thesaurus (NCIt) is a multi-axial hierarchy.  If a node has more than one parent, then the parents column will contain the C codes for the parents in a pipe delimited string.\n",
    "\n",
    "Hubert Hickman"
   ]
  },
  {
   "cell_type": "code",
   "execution_count": 1,
   "metadata": {
    "collapsed": true
   },
   "outputs": [],
   "source": [
    "import sqlite3\n",
    "import pandas\n",
    "import pprint\n",
    "pp = pprint.PrettyPrinter(indent = 4)"
   ]
  },
  {
   "cell_type": "code",
   "execution_count": 35,
   "metadata": {
    "collapsed": true
   },
   "outputs": [],
   "source": [
    "# Set these to whatever you need them to be.\n",
    "thesaurus_file = '/Volumes/workdisk/ncit/Thesaurus.txt'\n",
    "database_file = '/Volumes/workdisk/ncit/nci.db'"
   ]
  },
  {
   "cell_type": "markdown",
   "metadata": {},
   "source": [
    "Names in the dataframe will become columns in the sqlite database"
   ]
  },
  {
   "cell_type": "code",
   "execution_count": 37,
   "metadata": {},
   "outputs": [],
   "source": [
    "ncit_df = pandas.read_csv(thesaurus_file, delimiter = '\\t', header = None, \n",
    "                         names=('code', 'url', 'parents','synonyms', \n",
    "                                'definition', 'display_name', 'concept_status', 'semantic_type', 'pref_name' ))"
   ]
  },
  {
   "cell_type": "markdown",
   "metadata": {},
   "source": [
    "Add in the preferred name field - the first choice in the list of synonyms.  Note that this column is not in the NCI Thesaurus and can be computed in pandas or in sqlite."
   ]
  },
  {
   "cell_type": "code",
   "execution_count": 38,
   "metadata": {
    "collapsed": true
   },
   "outputs": [],
   "source": [
    "ncit_df['pref_name'] = ncit_df.apply(lambda row: row['synonyms'].split('|')[0], axis=1)"
   ]
  },
  {
   "cell_type": "code",
   "execution_count": 39,
   "metadata": {},
   "outputs": [
    {
     "name": "stdout",
     "output_type": "stream",
     "text": [
      "           code                                                url  parents  \\\n",
      "0       C100000  <http://ncicb.nci.nih.gov/xml/owl/EVS/Thesauru...   C49803   \n",
      "1       C100001  <http://ncicb.nci.nih.gov/xml/owl/EVS/Thesauru...   C49803   \n",
      "2       C100002  <http://ncicb.nci.nih.gov/xml/owl/EVS/Thesauru...   C49803   \n",
      "3       C100003  <http://ncicb.nci.nih.gov/xml/owl/EVS/Thesauru...   C80449   \n",
      "4       C100004  <http://ncicb.nci.nih.gov/xml/owl/EVS/Thesauru...   C80430   \n",
      "5       C100005  <http://ncicb.nci.nih.gov/xml/owl/EVS/Thesauru...   C15839   \n",
      "6       C100006  <http://ncicb.nci.nih.gov/xml/owl/EVS/Thesauru...  C139982   \n",
      "7       C100007  <http://ncicb.nci.nih.gov/xml/owl/EVS/Thesauru...   C99896   \n",
      "8       C100008  <http://ncicb.nci.nih.gov/xml/owl/EVS/Thesauru...   C49803   \n",
      "9       C100009  <http://ncicb.nci.nih.gov/xml/owl/EVS/Thesauru...   C99896   \n",
      "10       C10000  <http://ncicb.nci.nih.gov/xml/owl/EVS/Thesauru...   C61007   \n",
      "11      C100010  <http://ncicb.nci.nih.gov/xml/owl/EVS/Thesauru...   C80430   \n",
      "12      C100011  <http://ncicb.nci.nih.gov/xml/owl/EVS/Thesauru...   C63169   \n",
      "13      C100012  <http://ncicb.nci.nih.gov/xml/owl/EVS/Thesauru...   C50797   \n",
      "14      C100013  <http://ncicb.nci.nih.gov/xml/owl/EVS/Thesauru...   C62433   \n",
      "15      C100014  <http://ncicb.nci.nih.gov/xml/owl/EVS/Thesauru...  C111103   \n",
      "16      C100015  <http://ncicb.nci.nih.gov/xml/owl/EVS/Thesauru...   C99521   \n",
      "17      C100016  <http://ncicb.nci.nih.gov/xml/owl/EVS/Thesauru...   C25476   \n",
      "18      C100017  <http://ncicb.nci.nih.gov/xml/owl/EVS/Thesauru...   C80430   \n",
      "19      C100018  <http://ncicb.nci.nih.gov/xml/owl/EVS/Thesauru...   C35053   \n",
      "20      C100019  <http://ncicb.nci.nih.gov/xml/owl/EVS/Thesauru...  C111103   \n",
      "21       C10001  <http://ncicb.nci.nih.gov/xml/owl/EVS/Thesauru...   C61063   \n",
      "22      C100020  <http://ncicb.nci.nih.gov/xml/owl/EVS/Thesauru...   C35317   \n",
      "23      C100021  <http://ncicb.nci.nih.gov/xml/owl/EVS/Thesauru...   C35552   \n",
      "24      C100022  <http://ncicb.nci.nih.gov/xml/owl/EVS/Thesauru...   C49803   \n",
      "25      C100023  <http://ncicb.nci.nih.gov/xml/owl/EVS/Thesauru...   C35317   \n",
      "26      C100024  <http://ncicb.nci.nih.gov/xml/owl/EVS/Thesauru...   C37254   \n",
      "27      C100025  <http://ncicb.nci.nih.gov/xml/owl/EVS/Thesauru...   C99896   \n",
      "28      C100026  <http://ncicb.nci.nih.gov/xml/owl/EVS/Thesauru...   C99896   \n",
      "29      C100027  <http://ncicb.nci.nih.gov/xml/owl/EVS/Thesauru...   C99896   \n",
      "...         ...                                                ...      ...   \n",
      "145780   C96084  <http://ncicb.nci.nih.gov/xml/owl/EVS/Thesauru...   C99526   \n",
      "145781   C96088  <http://ncicb.nci.nih.gov/xml/owl/EVS/Thesauru...   C99526   \n",
      "145782   C96097  <http://ncicb.nci.nih.gov/xml/owl/EVS/Thesauru...   C99526   \n",
      "145783   C96101  <http://ncicb.nci.nih.gov/xml/owl/EVS/Thesauru...   C99526   \n",
      "145784   C96105  <http://ncicb.nci.nih.gov/xml/owl/EVS/Thesauru...   C99526   \n",
      "145785   C96108  <http://ncicb.nci.nih.gov/xml/owl/EVS/Thesauru...   C99526   \n",
      "145786   C96273  <http://ncicb.nci.nih.gov/xml/owl/EVS/Thesauru...  C113462   \n",
      "145787   C96395  <http://ncicb.nci.nih.gov/xml/owl/EVS/Thesauru...  C125190   \n",
      "145788   C96427  <http://ncicb.nci.nih.gov/xml/owl/EVS/Thesauru...  C125190   \n",
      "145789   C96609  <http://ncicb.nci.nih.gov/xml/owl/EVS/Thesauru...  C113462   \n",
      "145790   C96615  <http://ncicb.nci.nih.gov/xml/owl/EVS/Thesauru...   C99526   \n",
      "145791   C96637  <http://ncicb.nci.nih.gov/xml/owl/EVS/Thesauru...  C113462   \n",
      "145792   C96806  <http://ncicb.nci.nih.gov/xml/owl/EVS/Thesauru...   C99526   \n",
      "145793   C96863  <http://ncicb.nci.nih.gov/xml/owl/EVS/Thesauru...   C99526   \n",
      "145794   C97178  <http://ncicb.nci.nih.gov/xml/owl/EVS/Thesauru...  C113462   \n",
      "145795    C9742  <http://ncicb.nci.nih.gov/xml/owl/EVS/Thesauru...   C83480   \n",
      "145796   C97613  <http://ncicb.nci.nih.gov/xml/owl/EVS/Thesauru...  C143136   \n",
      "145797   C97614  <http://ncicb.nci.nih.gov/xml/owl/EVS/Thesauru...  C143136   \n",
      "145798   C98131  <http://ncicb.nci.nih.gov/xml/owl/EVS/Thesauru...  C143136   \n",
      "145799   C98812  <http://ncicb.nci.nih.gov/xml/owl/EVS/Thesauru...   C99526   \n",
      "145800   C98825  <http://ncicb.nci.nih.gov/xml/owl/EVS/Thesauru...  C104171   \n",
      "145801   C98984  <http://ncicb.nci.nih.gov/xml/owl/EVS/Thesauru...   C99526   \n",
      "145802   C99043  <http://ncicb.nci.nih.gov/xml/owl/EVS/Thesauru...  C104171   \n",
      "145803   C99102  <http://ncicb.nci.nih.gov/xml/owl/EVS/Thesauru...  C131742   \n",
      "145804   C99264  <http://ncicb.nci.nih.gov/xml/owl/EVS/Thesauru...  C120167   \n",
      "145805   C99523  <http://ncicb.nci.nih.gov/xml/owl/EVS/Thesauru...  C104171   \n",
      "145806   C99526  <http://ncicb.nci.nih.gov/xml/owl/EVS/Thesauru...   C28428   \n",
      "145807   C99638  <http://ncicb.nci.nih.gov/xml/owl/EVS/Thesauru...  C104171   \n",
      "145808   C99713  <http://ncicb.nci.nih.gov/xml/owl/EVS/Thesauru...  C104171   \n",
      "145809   C99974  <http://ncicb.nci.nih.gov/xml/owl/EVS/Thesauru...  C113462   \n",
      "\n",
      "                                                 synonyms  \\\n",
      "0       Percutaneous Coronary Intervention for ST Elev...   \n",
      "1       Percutaneous Coronary Intervention for ST Elev...   \n",
      "2       Percutaneous Coronary Intervention for ST Elev...   \n",
      "3       Percutaneous Mitral Valve Repair|PERCUTANEOUS ...   \n",
      "4             Pericardial Stripping|PERICARDIAL STRIPPING   \n",
      "5       Post-Cardiac Transplant Evaluation|POST-CARDIA...   \n",
      "6       Pre-Operative Evaluation for Non-Cardiovascula...   \n",
      "7       Previously Implanted Cardiac Lead|PREVIOUSLY I...   \n",
      "8       Rescue Percutaneous Coronary Intervention for ...   \n",
      "9                                     Reused Cardiac Lead   \n",
      "10      Cyclophosphamide/Fluoxymesterone/Mitolactol/Pr...   \n",
      "11      Right Cardiac Ventricle Assist Device Procedur...   \n",
      "12      Right Cardiac Ventricle Pacing Malfunction|RIG...   \n",
      "13                     Severe Cardiac Valve Regurgitation   \n",
      "14                          Severe Cardiac Valve Stenosis   \n",
      "15      Spontaneous Sustained Ventricular Tachycardia ...   \n",
      "16      Staged Percutaneous Coronary Intervention|STAG...   \n",
      "17      Subject Delay in Providing Consent|Patient Del...   \n",
      "18         Surgical Maze Procedure|Cox Maze|SURGICAL MAZE   \n",
      "19      Syncope with High Risk Cardiac Characteristics...   \n",
      "20      Syncope with Inducible Ventricular Tachycardia...   \n",
      "21      Cyclophosphamide/Doxorubicin/Melphalan/Vincris...   \n",
      "22      Three Vessel Coronary Disease|THREE VESSEL DIS...   \n",
      "23      Thrombolysis in Myocardial Infarction Flow|TIM...   \n",
      "24      Transcatheter Aortic Valve Implantation|TRANSC...   \n",
      "25         Two Vessel Coronary Disease|TWO VESSEL DISEASE   \n",
      "26      Typical Coronary Artery Disease Symptom|TYPICA...   \n",
      "27      Unable to Obtain Acceptable Pacing Thresholds|...   \n",
      "28      Unable to Obtain Satisfactory Coronary Sinus A...   \n",
      "29      Unable to Obtain Satisfactory Vascular Access|...   \n",
      "...                                                   ...   \n",
      "145780                     Stability Study Data File Type   \n",
      "145781                   Stability Study Data File Reason   \n",
      "145782                               Stability Study Test   \n",
      "145783                        Stability Study Method Type   \n",
      "145784                     Stability Study Interpretation   \n",
      "145785                               Stability Study Type   \n",
      "145786                                       Mottled Skin   \n",
      "145787  Varicella Vaccine|Varicella Virus Vaccine Live...   \n",
      "145788        Cholecystokinin B Receptor Antagonist YF476   \n",
      "145789  Non-Target Response|Response in Non-Target Lesion   \n",
      "145790                      Oxygen Saturation Measurement   \n",
      "145791          Target Response|Response in Target Lesion   \n",
      "145792             Intraductal Papillary Biliary Neoplasm   \n",
      "145793                               PI3KCA Gene Mutation   \n",
      "145794                                 Mixed Hearing Loss   \n",
      "145795                         Docetaxol/cyclophosphamide   \n",
      "145796  C12orf9 Gene|C12orf9|C12orf9|Chromosome 12 Ope...   \n",
      "145797  C12orf9 wt Allele|Chromosome 12 Open Reading F...   \n",
      "145798                                 Hypofibrinogenemia   \n",
      "145799                    Androgen Insensitivity Syndrome   \n",
      "145800                 Argininosuccinate Lyase Deficiency   \n",
      "145801                      Meningomyelocele|Spina Bifida   \n",
      "145802                          Retinoic Acid Embryopathy   \n",
      "145803  Glutaric Acidemia Type 2|Glutaric Aciduria, Ty...   \n",
      "145804                                     Cephalhematoma   \n",
      "145805               History of Old Myocardial Infarction   \n",
      "145806                               Retired Concept 2011   \n",
      "145807        Alpha 1 Antitrypsin|AAT|Alpha-1 Antitrypsin   \n",
      "145808  PAX3/FOXO1 Fusion Protein|PAX3/FKHR Fusion Pro...   \n",
      "145809      Left Cardiac Ventricular Systolic Dysfunction   \n",
      "\n",
      "                                               definition display_name  \\\n",
      "0       A percutaneous coronary intervention is necess...          NaN   \n",
      "1       A percutaneous coronary intervention is necess...          NaN   \n",
      "2       A percutaneous coronary intervention is necess...          NaN   \n",
      "3       Invasive procedure through a puncture in the s...          NaN   \n",
      "4          Removal or resection of the pericardium. (ACC)          NaN   \n",
      "5       A procedure to evaluate the health of the an i...          NaN   \n",
      "6       A procedure to evaluate the health of the card...          NaN   \n",
      "7       The coronary sinus / left ventricular lead was...          NaN   \n",
      "8       A percutaneous coronary intervention is impera...          NaN   \n",
      "9       The cardiac lead has been left in situ and reu...          NaN   \n",
      "10                                                    NaN          NaN   \n",
      "11      A procedure involving a mechanical pump which ...          NaN   \n",
      "12      The cardiac rhythm device malfunction affected...          NaN   \n",
      "13      Evidence of severe retrograde blood flow throu...          NaN   \n",
      "14      The cardiac valve orifice is abnormally narrow...          NaN   \n",
      "15      An electrocardiographic finding of ventricular...          NaN   \n",
      "16      A subsequent Percutaneous Coronary Interventio...          NaN   \n",
      "17      The subject has not provided consent in a time...          NaN   \n",
      "18      A cardiac procedure intended to inhibit atrial...          NaN   \n",
      "19      A sudden loss of consciousness with loss of po...          NaN   \n",
      "20      An electrocardiographic finding of ventricular...          NaN   \n",
      "21                                                    NaN          NaN   \n",
      "22      There was greater than or equal to 50% stenosi...          NaN   \n",
      "23      A grading system for coronary blood flow based...          NaN   \n",
      "24      Use of a thin tube to deliver an artificial va...          NaN   \n",
      "25      There was greater than or equal to 50% stenosi...          NaN   \n",
      "26      Deep, poorly localized chest or arm discomfort...          NaN   \n",
      "27      The coronary sinus / left ventricular lead was...          NaN   \n",
      "28      The coronary sinus / left ventricular lead was...          NaN   \n",
      "29      The coronary sinus / left ventricular lead was...          NaN   \n",
      "...                                                   ...          ...   \n",
      "145780                                                NaN          NaN   \n",
      "145781                                                NaN          NaN   \n",
      "145782                                                NaN          NaN   \n",
      "145783                                                NaN          NaN   \n",
      "145784                                                NaN          NaN   \n",
      "145785                                                NaN          NaN   \n",
      "145786  Irregularly shaped, patchy discolorations in t...          NaN   \n",
      "145787  A live attenuated virus vaccine used to preven...          NaN   \n",
      "145788                                                NaN          NaN   \n",
      "145789  A qualitative or quantitative measurement of t...          NaN   \n",
      "145790  The determination of the oxygen-hemoglobin sat...          NaN   \n",
      "145791  A qualitative or quantitative measurement of t...          NaN   \n",
      "145792  A non-invasive, papillary epithelial neoplasm ...          NaN   \n",
      "145793  A molecular genetic abnormality indicating the...          NaN   \n",
      "145794                                                NaN          NaN   \n",
      "145795                                                NaN          NaN   \n",
      "145796                   This gene is involved in lipoma.          NaN   \n",
      "145797  Human C12orf9 wild-type allele is located with...          NaN   \n",
      "145798                                                NaN          NaN   \n",
      "145799                                                NaN          NaN   \n",
      "145800                                                NaN          NaN   \n",
      "145801                                                NaN          NaN   \n",
      "145802                                                NaN          NaN   \n",
      "145803                                                NaN          NaN   \n",
      "145804  A subperiosteal hemorrhage limited to the surf...          NaN   \n",
      "145805                                                NaN          NaN   \n",
      "145806                                                NaN          NaN   \n",
      "145807                                                NaN          NaN   \n",
      "145808  A fusion protein (836 aa, ~92 kDa) encoded by ...          NaN   \n",
      "145809  The degree of impairment of the left cardiac v...          NaN   \n",
      "\n",
      "          concept_status                               semantic_type  \\\n",
      "0                    NaN         Therapeutic or Preventive Procedure   \n",
      "1                    NaN         Therapeutic or Preventive Procedure   \n",
      "2                    NaN         Therapeutic or Preventive Procedure   \n",
      "3                    NaN         Therapeutic or Preventive Procedure   \n",
      "4                    NaN         Therapeutic or Preventive Procedure   \n",
      "5                    NaN                        Health Care Activity   \n",
      "6                    NaN                        Health Care Activity   \n",
      "7                    NaN                                     Finding   \n",
      "8                    NaN         Therapeutic or Preventive Procedure   \n",
      "9                    NaN                                     Finding   \n",
      "10      Obsolete_Concept         Therapeutic or Preventive Procedure   \n",
      "11                   NaN         Therapeutic or Preventive Procedure   \n",
      "12                   NaN                                       Event   \n",
      "13                   NaN                         Disease or Syndrome   \n",
      "14                   NaN                                     Finding   \n",
      "15                   NaN                                     Finding   \n",
      "16                   NaN                                     Finding   \n",
      "17                   NaN                            Temporal Concept   \n",
      "18                   NaN         Therapeutic or Preventive Procedure   \n",
      "19                   NaN                                     Finding   \n",
      "20                   NaN                                     Finding   \n",
      "21      Obsolete_Concept         Therapeutic or Preventive Procedure   \n",
      "22                   NaN                         Disease or Syndrome   \n",
      "23                   NaN                                     Finding   \n",
      "24                   NaN         Therapeutic or Preventive Procedure   \n",
      "25                   NaN                         Disease or Syndrome   \n",
      "26                   NaN                             Sign or Symptom   \n",
      "27                   NaN                                     Finding   \n",
      "28                   NaN                                     Finding   \n",
      "29                   NaN                                     Finding   \n",
      "...                  ...                                         ...   \n",
      "145780   Retired_Concept                        Intellectual Product   \n",
      "145781   Retired_Concept                        Intellectual Product   \n",
      "145782   Retired_Concept                        Intellectual Product   \n",
      "145783   Retired_Concept                        Intellectual Product   \n",
      "145784   Retired_Concept                        Intellectual Product   \n",
      "145785   Retired_Concept                        Intellectual Product   \n",
      "145786   Retired_Concept                                     Finding   \n",
      "145787   Retired_Concept  Immunologic Factor|Pharmacologic Substance   \n",
      "145788   Retired_Concept                     Pharmacologic Substance   \n",
      "145789   Retired_Concept                                     Finding   \n",
      "145790   Retired_Concept                        Laboratory Procedure   \n",
      "145791   Retired_Concept                                     Finding   \n",
      "145792   Retired_Concept                          Neoplastic Process   \n",
      "145793   Retired_Concept               Cell or Molecular Dysfunction   \n",
      "145794   Retired_Concept                         Disease or Syndrome   \n",
      "145795   Retired_Concept         Therapeutic or Preventive Procedure   \n",
      "145796   Retired_Concept                              Gene or Genome   \n",
      "145797   Retired_Concept                              Gene or Genome   \n",
      "145798   Retired_Concept                         Disease or Syndrome   \n",
      "145799   Retired_Concept                         Disease or Syndrome   \n",
      "145800   Retired_Concept                         Disease or Syndrome   \n",
      "145801   Retired_Concept                         Disease or Syndrome   \n",
      "145802   Retired_Concept                      Congenital Abnormality   \n",
      "145803   Retired_Concept                         Disease or Syndrome   \n",
      "145804   Retired_Concept                                     Finding   \n",
      "145805   Retired_Concept                          Clinical Attribute   \n",
      "145806               NaN                           Conceptual Entity   \n",
      "145807   Retired_Concept                     Pharmacologic Substance   \n",
      "145808   Retired_Concept             Amino Acid, Peptide, or Protein   \n",
      "145809   Retired_Concept                                     Finding   \n",
      "\n",
      "                                                pref_name  \n",
      "0       Percutaneous Coronary Intervention for ST Elev...  \n",
      "1       Percutaneous Coronary Intervention for ST Elev...  \n",
      "2       Percutaneous Coronary Intervention for ST Elev...  \n",
      "3                        Percutaneous Mitral Valve Repair  \n",
      "4                                   Pericardial Stripping  \n",
      "5                      Post-Cardiac Transplant Evaluation  \n",
      "6       Pre-Operative Evaluation for Non-Cardiovascula...  \n",
      "7                       Previously Implanted Cardiac Lead  \n",
      "8       Rescue Percutaneous Coronary Intervention for ...  \n",
      "9                                     Reused Cardiac Lead  \n",
      "10      Cyclophosphamide/Fluoxymesterone/Mitolactol/Pr...  \n",
      "11        Right Cardiac Ventricle Assist Device Procedure  \n",
      "12             Right Cardiac Ventricle Pacing Malfunction  \n",
      "13                     Severe Cardiac Valve Regurgitation  \n",
      "14                          Severe Cardiac Valve Stenosis  \n",
      "15      Spontaneous Sustained Ventricular Tachycardia ...  \n",
      "16              Staged Percutaneous Coronary Intervention  \n",
      "17                     Subject Delay in Providing Consent  \n",
      "18                                Surgical Maze Procedure  \n",
      "19         Syncope with High Risk Cardiac Characteristics  \n",
      "20      Syncope with Inducible Ventricular Tachycardia...  \n",
      "21      Cyclophosphamide/Doxorubicin/Melphalan/Vincris...  \n",
      "22                          Three Vessel Coronary Disease  \n",
      "23             Thrombolysis in Myocardial Infarction Flow  \n",
      "24                Transcatheter Aortic Valve Implantation  \n",
      "25                            Two Vessel Coronary Disease  \n",
      "26                Typical Coronary Artery Disease Symptom  \n",
      "27          Unable to Obtain Acceptable Pacing Thresholds  \n",
      "28      Unable to Obtain Satisfactory Coronary Sinus A...  \n",
      "29          Unable to Obtain Satisfactory Vascular Access  \n",
      "...                                                   ...  \n",
      "145780                     Stability Study Data File Type  \n",
      "145781                   Stability Study Data File Reason  \n",
      "145782                               Stability Study Test  \n",
      "145783                        Stability Study Method Type  \n",
      "145784                     Stability Study Interpretation  \n",
      "145785                               Stability Study Type  \n",
      "145786                                       Mottled Skin  \n",
      "145787                                  Varicella Vaccine  \n",
      "145788        Cholecystokinin B Receptor Antagonist YF476  \n",
      "145789                                Non-Target Response  \n",
      "145790                      Oxygen Saturation Measurement  \n",
      "145791                                    Target Response  \n",
      "145792             Intraductal Papillary Biliary Neoplasm  \n",
      "145793                               PI3KCA Gene Mutation  \n",
      "145794                                 Mixed Hearing Loss  \n",
      "145795                         Docetaxol/cyclophosphamide  \n",
      "145796                                       C12orf9 Gene  \n",
      "145797                                  C12orf9 wt Allele  \n",
      "145798                                 Hypofibrinogenemia  \n",
      "145799                    Androgen Insensitivity Syndrome  \n",
      "145800                 Argininosuccinate Lyase Deficiency  \n",
      "145801                                   Meningomyelocele  \n",
      "145802                          Retinoic Acid Embryopathy  \n",
      "145803                           Glutaric Acidemia Type 2  \n",
      "145804                                     Cephalhematoma  \n",
      "145805               History of Old Myocardial Infarction  \n",
      "145806                               Retired Concept 2011  \n",
      "145807                                Alpha 1 Antitrypsin  \n",
      "145808                          PAX3/FOXO1 Fusion Protein  \n",
      "145809      Left Cardiac Ventricular Systolic Dysfunction  \n",
      "\n",
      "[145810 rows x 9 columns]\n"
     ]
    }
   ],
   "source": [
    "print(ncit_df)"
   ]
  },
  {
   "cell_type": "code",
   "execution_count": 40,
   "metadata": {
    "collapsed": true
   },
   "outputs": [],
   "source": [
    "con = sqlite3.connect(database_file)"
   ]
  },
  {
   "cell_type": "code",
   "execution_count": 41,
   "metadata": {
    "collapsed": true
   },
   "outputs": [],
   "source": [
    "# Write the dataframe out to the sqlite table\n",
    "ncit_df.to_sql('ncit', con=con, if_exists = 'replace')"
   ]
  },
  {
   "cell_type": "code",
   "execution_count": 42,
   "metadata": {
    "collapsed": true
   },
   "outputs": [],
   "source": [
    "con.execute(\"drop index if exists ncit_code_index\")\n",
    "con.execute(\"create index ncit_code_index on ncit(code)\")\n",
    "con.commit()"
   ]
  },
  {
   "cell_type": "code",
   "execution_count": 43,
   "metadata": {},
   "outputs": [
    {
     "data": {
      "text/plain": [
       "<sqlite3.Cursor at 0x1125ae110>"
      ]
     },
     "execution_count": 43,
     "metadata": {},
     "output_type": "execute_result"
    }
   ],
   "source": [
    "cur=con.cursor()\n",
    "cur.execute(\"select code, parents from ncit where parents is not null\")"
   ]
  },
  {
   "cell_type": "markdown",
   "metadata": {},
   "source": [
    "Get all of the concepts that have parents into a result set "
   ]
  },
  {
   "cell_type": "code",
   "execution_count": 44,
   "metadata": {
    "collapsed": true
   },
   "outputs": [],
   "source": [
    "concept_parents = cur.fetchall()"
   ]
  },
  {
   "cell_type": "code",
   "execution_count": 45,
   "metadata": {},
   "outputs": [
    {
     "name": "stdout",
     "output_type": "stream",
     "text": [
      "145790\n"
     ]
    }
   ],
   "source": [
    "print(len(concept_parents))"
   ]
  },
  {
   "cell_type": "code",
   "execution_count": 46,
   "metadata": {
    "collapsed": true
   },
   "outputs": [],
   "source": [
    "con.commit()"
   ]
  },
  {
   "cell_type": "markdown",
   "metadata": {},
   "source": [
    "Create a table that will hold the concept, the parent, the path from parent to the concept, and the level (need this to properly recurse along the relationship)."
   ]
  },
  {
   "cell_type": "code",
   "execution_count": 47,
   "metadata": {},
   "outputs": [
    {
     "data": {
      "text/plain": [
       "<sqlite3.Cursor at 0x1125ae030>"
      ]
     },
     "execution_count": 47,
     "metadata": {},
     "output_type": "execute_result"
    }
   ],
   "source": [
    "con.execute('drop table if exists parents')\n",
    "con.execute(\"\"\"\n",
    "create table parents (\n",
    "concept text,\n",
    "parent text,\n",
    "path text,\n",
    "level int)\n",
    "\"\"\")"
   ]
  },
  {
   "cell_type": "markdown",
   "metadata": {},
   "source": [
    "Put the direct concept &rarr; parent relationships in the table as level 1 items."
   ]
  },
  {
   "cell_type": "code",
   "execution_count": 48,
   "metadata": {
    "collapsed": true
   },
   "outputs": [],
   "source": [
    "for concept, parents in concept_parents:\n",
    "    parentl = parents.split('|')\n",
    "    for p in parentl:\n",
    "        con.execute(\"insert into parents(concept, parent, level, path )values(?,?,1,?)\", (concept,p,p +'|'+ concept))\n",
    "con.commit()\n",
    "\n",
    "    "
   ]
  },
  {
   "cell_type": "code",
   "execution_count": 49,
   "metadata": {},
   "outputs": [
    {
     "name": "stdout",
     "output_type": "stream",
     "text": [
      "[('C100063', 'C3824', 'C3824|C100063', 1), ('C110961', 'C3824', 'C3824|C110961', 1), ('C110962', 'C3824', 'C3824|C110962', 1), ('C111029', 'C3824', 'C3824|C111029', 1), ('C111971', 'C3824', 'C3824|C111971', 1), ('C111972', 'C3824', 'C3824|C111972', 1), ('C117372', 'C3824', 'C3824|C117372', 1), ('C120880', 'C3824', 'C3824|C120880', 1), ('C121146', 'C3824', 'C3824|C121146', 1), ('C123253', 'C3824', 'C3824|C123253', 1), ('C124069', 'C3824', 'C3824|C124069', 1), ('C126089', 'C3824', 'C3824|C126089', 1), ('C126781', 'C3824', 'C3824|C126781', 1), ('C128698', 'C3824', 'C3824|C128698', 1), ('C139013', 'C3824', 'C3824|C139013', 1), ('C139024', 'C3824', 'C3824|C139024', 1), ('C142817', 'C3824', 'C3824|C142817', 1), ('C155726', 'C3824', 'C3824|C155726', 1), ('C35935', 'C3824', 'C3824|C35935', 1), ('C35936', 'C3824', 'C3824|C35936', 1), ('C36109', 'C3824', 'C3824|C36109', 1), ('C36110', 'C3824', 'C3824|C36110', 1), ('C36164', 'C3824', 'C3824|C36164', 1), ('C36298', 'C3824', 'C3824|C36298', 1), ('C36299', 'C3824', 'C3824|C36299', 1), ('C39623', 'C3824', 'C3824|C39623', 1), ('C39690', 'C3824', 'C3824|C39690', 1), ('C40555', 'C3824', 'C3824|C40555', 1), ('C40557', 'C3824', 'C3824|C40557', 1), ('C40558', 'C3824', 'C3824|C40558', 1), ('C40559', 'C3824', 'C3824|C40559', 1), ('C40560', 'C3824', 'C3824|C40560', 1), ('C41039', 'C3824', 'C3824|C41039', 1), ('C41421', 'C3824', 'C3824|C41421', 1), ('C41425', 'C3824', 'C3824|C41425', 1), ('C41444', 'C3824', 'C3824|C41444', 1), ('C41457', 'C3824', 'C3824|C41457', 1), ('C42078', 'C3824', 'C3824|C42078', 1), ('C42094', 'C3824', 'C3824|C42094', 1), ('C43260', 'C3824', 'C3824|C43260', 1), ('C43278', 'C3824', 'C3824|C43278', 1), ('C43280', 'C3824', 'C3824|C43280', 1), ('C45328', 'C3824', 'C3824|C45328', 1), ('C47826', 'C3824', 'C3824|C47826', 1), ('C48615', 'C3824', 'C3824|C48615', 1), ('C50597', 'C3824', 'C3824|C50597', 1), ('C51137', 'C3824', 'C3824|C51137', 1), ('C53301', 'C3824', 'C3824|C53301', 1), ('C53302', 'C3824', 'C3824|C53302', 1), ('C53303', 'C3824', 'C3824|C53303', 1), ('C53304', 'C3824', 'C3824|C53304', 1), ('C53415', 'C3824', 'C3824|C53415', 1), ('C53416', 'C3824', 'C3824|C53416', 1), ('C53974', 'C3824', 'C3824|C53974', 1), ('C54003', 'C3824', 'C3824|C54003', 1), ('C54062', 'C3824', 'C3824|C54062', 1), ('C54201', 'C3824', 'C3824|C54201', 1), ('C54253', 'C3824', 'C3824|C54253', 1), ('C54621', 'C3824', 'C3824|C54621', 1), ('C60536', 'C3824', 'C3824|C60536', 1), ('C60643', 'C3824', 'C3824|C60643', 1), ('C60644', 'C3824', 'C3824|C60644', 1), ('C61451', 'C3824', 'C3824|C61451', 1), ('C62106', 'C3824', 'C3824|C62106', 1), ('C62108', 'C3824', 'C3824|C62108', 1), ('C62226', 'C3824', 'C3824|C62226', 1), ('C62450', 'C3824', 'C3824|C62450', 1), ('C83008', 'C3824', 'C3824|C83008', 1), ('C84358', 'C3824', 'C3824|C84358', 1), ('C84359', 'C3824', 'C3824|C84359', 1), ('C92486', 'C3824', 'C3824|C92486', 1), ('C94771', 'C3824', 'C3824|C94771', 1), ('C95431', 'C3824', 'C3824|C95431', 1), ('C96211', 'C3824', 'C3824|C96211', 1), ('C96495', 'C3824', 'C3824|C96495', 1)]\n"
     ]
    }
   ],
   "source": [
    "print(con.execute(\"select * from parents where parent= 'C3824'\").fetchall())"
   ]
  },
  {
   "cell_type": "code",
   "execution_count": 50,
   "metadata": {},
   "outputs": [
    {
     "data": {
      "text/plain": [
       "<sqlite3.Cursor at 0x1125ae180>"
      ]
     },
     "execution_count": 50,
     "metadata": {},
     "output_type": "execute_result"
    }
   ],
   "source": [
    "con.execute(\"drop index if exists par_concept_idx\")\n",
    "con.execute(\"create index par_concept_idx on parents(concept)\")\n",
    "con.execute(\"drop index if exists par_par_idx\")\n",
    "con.execute(\"create index par_par_idx on parents(parent)\")"
   ]
  },
  {
   "cell_type": "markdown",
   "metadata": {},
   "source": [
    "This is the key part - execute the recursive SQL to generate the set of all paths through the NCIt.  We'll prune this to just concepts and descendants a few steps below.  "
   ]
  },
  {
   "cell_type": "code",
   "execution_count": 63,
   "metadata": {
    "collapsed": true
   },
   "outputs": [],
   "source": [
    "con.execute(\"drop table if exists ncit_tc_with_path\")\n",
    "con.execute('create table ncit_tc_with_path as with recursive ncit_tc_rows(parent, descendant, level, path ) as ' + \n",
    "'(select parent, concept as descendant, level, path from parents union all '+ \n",
    "\"select p.parent , n.descendant as descendant, n.level+1 as level ,  p.parent || '|' || n.path  as path \" +\n",
    "'from ncit_tc_rows n join parents p on n.parent = p.concept  ' + \n",
    "') select * from ncit_tc_rows')\n",
    "\n",
    "con.execute('create index ncit_tc_path_parent on ncit_tc_with_path(parent)')\n",
    "con.commit()"
   ]
  },
  {
   "cell_type": "markdown",
   "metadata": {},
   "source": [
    "Create the transitive closure table.  This fits the mathematical definition of transitive closure. "
   ]
  },
  {
   "cell_type": "code",
   "execution_count": 52,
   "metadata": {},
   "outputs": [
    {
     "data": {
      "text/plain": [
       "<sqlite3.Cursor at 0x1125ae3b0>"
      ]
     },
     "execution_count": 52,
     "metadata": {},
     "output_type": "execute_result"
    }
   ],
   "source": [
    "con.execute('drop table if exists ncit_tc')\n",
    "con.execute(\"create table ncit_tc as select distinct parent, descendant from ncit_tc_with_path \")\n",
    "con.execute('create index ncit_tc_parent on ncit_tc (parent) ')"
   ]
  },
  {
   "cell_type": "code",
   "execution_count": 53,
   "metadata": {},
   "outputs": [
    {
     "name": "stdout",
     "output_type": "stream",
     "text": [
      "(989181,)\n"
     ]
    }
   ],
   "source": [
    "print(con.execute('select count(*) from ncit_tc').fetchone())"
   ]
  },
  {
   "cell_type": "code",
   "execution_count": 54,
   "metadata": {},
   "outputs": [
    {
     "name": "stdout",
     "output_type": "stream",
     "text": [
      "[(36271,)]\n"
     ]
    }
   ],
   "source": [
    "pp.pprint(con.execute(\"select count(*) from ncit_tc where parent = 'C7057'\").fetchall())"
   ]
  },
  {
   "cell_type": "code",
   "execution_count": 55,
   "metadata": {},
   "outputs": [
    {
     "name": "stdout",
     "output_type": "stream",
     "text": [
      "[   ('C12218',),\n",
      "    ('C12219',),\n",
      "    ('C12913',),\n",
      "    ('C14250',),\n",
      "    ('C16612',),\n",
      "    ('C17828',),\n",
      "    ('C1908',),\n",
      "    ('C20047',),\n",
      "    ('C20181',),\n",
      "    ('C20189',),\n",
      "    ('C20633',),\n",
      "    ('C22187',),\n",
      "    ('C22188',),\n",
      "    ('C26548',),\n",
      "    ('C28389',),\n",
      "    ('C28428',),\n",
      "    ('C3910',),\n",
      "    ('C43431',),\n",
      "    ('C7057',),\n",
      "    ('C97325',)]\n"
     ]
    }
   ],
   "source": [
    "pp.pprint(con.execute(\"select code from ncit where parents is null\").fetchall())"
   ]
  },
  {
   "cell_type": "code",
   "execution_count": 56,
   "metadata": {},
   "outputs": [
    {
     "name": "stdout",
     "output_type": "stream",
     "text": [
      "[   ('C49803', 'C100000'),\n",
      "    ('C49803', 'C100001'),\n",
      "    ('C49803', 'C100002'),\n",
      "    ('C80449', 'C100003'),\n",
      "    ('C80430', 'C100004'),\n",
      "    ('C15839', 'C100005'),\n",
      "    ('C139982', 'C100006'),\n",
      "    ('C99896', 'C100007'),\n",
      "    ('C49803', 'C100008'),\n",
      "    ('C99896', 'C100009')]\n"
     ]
    }
   ],
   "source": [
    "pp.pprint(con.execute(\"select * from ncit_tc limit 10\").fetchall())"
   ]
  },
  {
   "cell_type": "markdown",
   "metadata": {},
   "source": [
    "We need to add in the reflexive relations (i.e. xRx for any concept x).  This is a convenience to simplify the subsumption operations using the database table."
   ]
  },
  {
   "cell_type": "code",
   "execution_count": 57,
   "metadata": {},
   "outputs": [
    {
     "data": {
      "text/plain": [
       "<sqlite3.Cursor at 0x1125ae420>"
      ]
     },
     "execution_count": 57,
     "metadata": {},
     "output_type": "execute_result"
    }
   ],
   "source": [
    "con.execute(\n",
    "'''with codes as \n",
    "(\n",
    "select distinct parent as code from ncit_tc\n",
    "union\n",
    "select distinct descendant as code from ncit_tc\n",
    ") \n",
    "insert into ncit_tc (parent, descendant) \n",
    "select c.code as parent, c.code as descendant from codes c\n",
    "''')"
   ]
  },
  {
   "cell_type": "code",
   "execution_count": 64,
   "metadata": {},
   "outputs": [
    {
     "data": {
      "text/plain": [
       "<sqlite3.Cursor at 0x1125ae8f0>"
      ]
     },
     "execution_count": 64,
     "metadata": {},
     "output_type": "execute_result"
    }
   ],
   "source": [
    "con.execute(\n",
    "'''with codes as \n",
    "(\n",
    "select distinct parent as code from ncit_tc\n",
    "union\n",
    "select distinct descendant as code from ncit_tc\n",
    ") \n",
    "insert into ncit_tc_with_path (parent, descendant, level, path) \n",
    "select c.code, c.code, 0  , c.code  from codes c\n",
    "''')"
   ]
  },
  {
   "cell_type": "code",
   "execution_count": 59,
   "metadata": {
    "collapsed": true
   },
   "outputs": [],
   "source": [
    "reflexive_concepts  = con.execute(\"select count(*) from ncit_tc where parent=descendant\").fetchall()"
   ]
  },
  {
   "cell_type": "code",
   "execution_count": 60,
   "metadata": {},
   "outputs": [
    {
     "name": "stdout",
     "output_type": "stream",
     "text": [
      "[(145809,)]\n"
     ]
    }
   ],
   "source": [
    "print(reflexive_concepts)"
   ]
  },
  {
   "cell_type": "code",
   "execution_count": 61,
   "metadata": {},
   "outputs": [
    {
     "data": {
      "text/plain": [
       "[(1134990,)]"
      ]
     },
     "execution_count": 61,
     "metadata": {},
     "output_type": "execute_result"
    }
   ],
   "source": [
    "con.execute(\"select count(*) from ncit_tc \").fetchall()"
   ]
  },
  {
   "cell_type": "code",
   "execution_count": 62,
   "metadata": {},
   "outputs": [
    {
     "data": {
      "text/plain": [
       "<sqlite3.Cursor at 0x1125ae570>"
      ]
     },
     "execution_count": 62,
     "metadata": {},
     "output_type": "execute_result"
    }
   ],
   "source": [
    "con.execute(\"drop index if exists tc_parent_index\")\n",
    "con.execute(\"create index tc_parent_index on ncit_tc(parent)\")"
   ]
  },
  {
   "cell_type": "markdown",
   "metadata": {},
   "source": [
    "At this point, several options are available. \n",
    "* Use this table in operations.\n",
    "* Export the table in CSV to use in other situations\n",
    "* Reinstantiate the table as a pandas dataframe to use directly in Python/pandas"
   ]
  },
  {
   "cell_type": "code",
   "execution_count": 65,
   "metadata": {
    "collapsed": true
   },
   "outputs": [],
   "source": [
    "con.commit()"
   ]
  },
  {
   "cell_type": "code",
   "execution_count": null,
   "metadata": {
    "collapsed": true
   },
   "outputs": [],
   "source": []
  }
 ],
 "metadata": {
  "kernelspec": {
   "display_name": "Python 3",
   "language": "python",
   "name": "python3"
  },
  "language_info": {
   "codemirror_mode": {
    "name": "ipython",
    "version": 3
   },
   "file_extension": ".py",
   "mimetype": "text/x-python",
   "name": "python",
   "nbconvert_exporter": "python",
   "pygments_lexer": "ipython3",
   "version": "3.6.3"
  }
 },
 "nbformat": 4,
 "nbformat_minor": 2
}
